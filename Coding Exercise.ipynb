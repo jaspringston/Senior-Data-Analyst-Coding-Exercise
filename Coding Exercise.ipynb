{
 "cells": [
  {
   "cell_type": "code",
   "execution_count": 1,
   "id": "c3215fca",
   "metadata": {},
   "outputs": [],
   "source": [
    "import requests"
   ]
  },
  {
   "cell_type": "code",
   "execution_count": 3,
   "id": "59e0ed81",
   "metadata": {},
   "outputs": [
    {
     "data": {
      "text/plain": [
       "<Response [200]>"
      ]
     },
     "execution_count": 3,
     "metadata": {},
     "output_type": "execute_result"
    }
   ],
   "source": [
    "req = requests.get('https://internal.chattadata.org/api/views/fedh-4gj4/rows.csv')\n",
    "req"
   ]
  },
  {
   "cell_type": "code",
   "execution_count": 5,
   "id": "c9a926e6",
   "metadata": {},
   "outputs": [],
   "source": [
    "import csv"
   ]
  },
  {
   "cell_type": "code",
   "execution_count": 7,
   "id": "5ae717be",
   "metadata": {},
   "outputs": [
    {
     "name": "stdout",
     "output_type": "stream",
     "text": [
      "<_io.TextIOWrapper name='csvexample.csv' mode='w' encoding='cp1252'>\n"
     ]
    }
   ],
   "source": [
    "with open('csvexample.csv', mode='w') as csvfile:\n",
    "    # writer = csv.writer(csvfile)\n",
    "    csvfile.write(req.text)\n",
    "    print(csvfile)"
   ]
  },
  {
   "cell_type": "code",
   "execution_count": 10,
   "id": "63538c2f",
   "metadata": {},
   "outputs": [
    {
     "name": "stdout",
     "output_type": "stream",
     "text": [
      "{'DATE': '10/15/2020', 'CATEGORY': 'ZIP Code', 'CAT_DETAIL': '37410', 'CAT_CASES_TOTAL': '159', 'CAT_CASES_TOTAL_PERCENT': '0.0155', 'CAT_CASES_TOTAL_PER1K': '35.33', 'CAT_CASES_NEW_PER1K': '0.22', 'CAT_CASES_NEW': '1', 'Most Recent Date': 'N', 'geometry': 'MULTIPOLYGON (((-85.30346 35.02275, -85.3036 35.021385, -85.304306 35.020016, -85.30439 35.018986, -85.30499 35.017628, -85.30502 35.016575, -85.30478 35.016182, -85.30442 35.016003, -85.304184 35.01614, -85.304 35.016865, -85.30341 35.016945, -85.3024 35.016205, -85.30198 35.01605, -85.301384 35.01545, -85.3017 35.01534, -85.302414 35.015583, -85.304085 35.015633, -85.30419 35.015553, -85.3041 35.01524, -85.30336 35.014824, -85.30331 35.014633, -85.30504 35.01387, -85.30523 35.013626, -85.30514 35.012615, -85.30543 35.012024, -85.30539 35.01186, -85.30397 35.011414, -85.303444 35.010857, -85.3034 35.01041, -85.304016 35.009903, -85.30407 35.00971, -85.30319 35.00882, -85.30246 35.008377, -85.302414 35.008198, -85.30336 35.007027, -85.3034 35.005188, -85.30388 35.00506, -85.30494 35.005432, -85.3055 35.004997, -85.30557 35.00419, -85.3062 35.00251, -85.306274 35.00147, -85.30605 35.001045, -85.305504 35.000748, -85.30577 34.99972, -85.30573 34.999233, -85.305214 34.99874, -85.304436 34.99885, -85.304634 34.99826, -85.30458 34.9978, -85.304146 34.99771, -85.30333 34.998, -85.302826 34.99751, -85.30218 34.99595, -85.302635 34.99499, -85.30275 34.993767, -85.3017 34.993755, -85.301094 34.993492, -85.29993 34.99338, -85.30001 34.993027, -85.30141 34.99299, -85.30151 34.992687, -85.30096 34.991432, -85.30103 34.990658, -85.30133 34.990093, -85.30123 34.989296, -85.3011 34.989212, -85.30074 34.989445, -85.30069 34.98946, -85.30049 34.989445, -85.29979 34.988537, -85.29993 34.98794, -85.30065 34.98761, -85.30032 34.98725, -85.30032 34.98662, -85.300095 34.985783, -85.299416 34.984585, -85.299416 34.984585, -85.2998 34.984577, -85.301056 34.98455, -85.30554 34.984467, -85.30706 34.9844, -85.30817 34.984375, -85.30826 34.984375, -85.31038 34.98437, -85.317154 34.984177, -85.31986 34.98423, -85.32257 34.98416, -85.32423 34.9841, -85.32549 34.98405, -85.32743 34.983974, -85.32775 34.983967, -85.327385 34.986095, -85.32698 34.986668, -85.32548 34.98603, -85.32416 34.986427, -85.32553 34.987434, -85.326294 34.98762, -85.32579 34.9894, -85.32417 34.993107, -85.32321 35.000492, -85.322876 35.001682, -85.32245 35.001575, -85.32078 35.004787, -85.31991 35.00555, -85.31989 35.006187, -85.31925 35.007412, -85.321335 35.008213, -85.32239 35.008183, -85.32267 35.01032, -85.32305 35.0117, -85.325096 35.01245, -85.323654 35.015095, -85.323586 35.015472, -85.32291 35.01639, -85.32221 35.017597, -85.32022 35.016914, -85.32012 35.017033, -85.318016 35.020943, -85.31807 35.021286, -85.31828 35.021507, -85.3198 35.022034, -85.31913 35.023235, -85.31133 35.021698, -85.311325 35.022156, -85.309006 35.02173, -85.30724 35.02174, -85.30621 35.022022, -85.30526 35.0226, -85.30304 35.025234, -85.30275 35.025146, -85.30405 35.023067, -85.30346 35.02275)))'}\n"
     ]
    }
   ],
   "source": [
    "with open('csvexample.csv', mode='r') as csvfile:\n",
    "    reader = csv.DictReader(csvfile)\n",
    "    rows = []\n",
    "    for row in reader:\n",
    "        rows.append(row)\n",
    "    print(rows[0])"
   ]
  },
  {
   "cell_type": "code",
   "execution_count": 19,
   "id": "90f338f8",
   "metadata": {},
   "outputs": [],
   "source": [
    "def add_data(dataset, ):\n",
    "\n",
    "    with open('csvexample.csv', mode='w') as csvfile:\n",
    "        # writer = csv.writer(csvfile)\n",
    "        csvfile.write(req.text)\n",
    "        print(csvfile)\n",
    "\n",
    "    with open('csvexample.csv', mode='r') as csvfile:\n",
    "        reader = csv.DictReader(csvfile)\n",
    "        fieldnames = reader.fieldnames\n",
    "        fieldnames.append('ZIP_Population')\n",
    "        # print(fieldnames)\n",
    "        rows = []\n",
    "        for row in reader:\n",
    "            row['ZIP_Population'] = 3400\n",
    "            rows.append(row)\n",
    "\n",
    "    with open('newcsv.csv', mode='w', newline='') as newcsv:\n",
    "        writer = csv.DictWriter(newcsv, fieldnames=fieldnames)\n",
    "        writer.writeheader()\n",
    "        for row in rows:\n",
    "            writer.writerow(row)\n",
    "    "
   ]
  },
  {
   "cell_type": "code",
   "execution_count": null,
   "id": "72d4a631",
   "metadata": {},
   "outputs": [],
   "source": []
  }
 ],
 "metadata": {
  "kernelspec": {
   "display_name": "Python 3",
   "language": "python",
   "name": "python3"
  },
  "language_info": {
   "codemirror_mode": {
    "name": "ipython",
    "version": 3
   },
   "file_extension": ".py",
   "mimetype": "text/x-python",
   "name": "python",
   "nbconvert_exporter": "python",
   "pygments_lexer": "ipython3",
   "version": "3.8.8"
  }
 },
 "nbformat": 4,
 "nbformat_minor": 5
}
